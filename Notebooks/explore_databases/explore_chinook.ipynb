{
 "cells": [
  {
   "cell_type": "code",
   "execution_count": 1,
   "metadata": {},
   "outputs": [],
   "source": [
    "import sqlite3\n",
    "import pandas as pd\n",
    "from pyprojroot import here"
   ]
  },
  {
   "cell_type": "code",
   "execution_count": 2,
   "metadata": {},
   "outputs": [],
   "source": [
    "# Connect to SQLite database\n",
    "db_path = here('data/Chinook.db')\n",
    "conn = sqlite3.connect(db_path)"
   ]
  },
  {
   "cell_type": "code",
   "execution_count": 7,
   "metadata": {},
   "outputs": [
    {
     "name": "stdout",
     "output_type": "stream",
     "text": [
      "[('AC/DC',), ('Accept',), ('Aerosmith',), ('Alanis Morissette',), ('Alice In Chains',), ('Antônio Carlos Jobim',), ('Apocalyptica',), ('Audioslave',), ('BackBeat',), ('Billy Cobham',), ('Black Label Society',), ('Black Sabbath',), ('Caetano Veloso',), ('Chico Buarque',), ('Chico Science & Nação Zumbi',), ('Cidade Negra',), ('Various Artists',), ('Frank Zappa & Captain Beefheart',), ('Marcos Valle',), ('Milton Nascimento & Bebeto',), ('Azymuth',), ('Baby Consuelo',), ('Ney Matogrosso',), ('Luiz Melodia',), ('Nando Reis',), ('Pedro Luís & A Parede',), ('O Rappa',), ('Ed Motta',), ('Banda Black Rio',), ('Fernanda Porto',), ('Os Cariocas',), ('Elis Regina',), ('Milton Nascimento',), ('A Cor Do Som',), ('Kid Abelha',), ('Sandra De Sá',), ('Hermeto Pascoal',), ('Barão Vermelho',), ('Edson, DJ Marky & DJ Patife Featuring Fernanda Porto',), ('Metallica',), ('Spyro Gyra',), ('Green Day',), ('David Coverdale',), ('Gonzaguinha',), ('Os Mutantes',), ('Santana',), ('Santana Feat. Dave Matthews',), ('Santana Feat. Everlast',), ('Santana Feat. Rob Thomas',), ('Santana Feat. Lauryn Hill & Cee-Lo',), ('Santana Feat. The Project G&B',), ('Santana Feat. Maná',), ('Santana Feat. Eagle-Eye Cherry',), ('Santana Feat. Eric Clapton',), ('Miles Davis',), ('Gene Krupa',), ('Vinícius De Moraes & Baden Powell',), ('Vinícius De Moraes',), ('Vinícius E Odette Lara',), ('Vinicius, Toquinho & Quarteto Em Cy',), ('Creedence Clearwater Revival',), ('Cássia Eller',), ('Def Leppard',), ('Dennis Chambers',), ('Djavan',), ('Eric Clapton',), ('Faith No More',), ('Falamansa',), ('Frank Sinatra',), ('Funk Como Le Gusta',), ('Godsmack',), ('Iron Maiden',), ('James Brown',), ('Jamiroquai',), ('Joe Satriani',), ('Jota Quest',), ('Judas Priest',), ('Legião Urbana',), ('Lenny Kravitz',), ('Lulu Santos',), ('Marillion',), ('Marisa Monte',), ('Marvin Gaye',), ('Men At Work',), ('Motörhead',), ('Motörhead & Girlschool',), ('Mônica Marianno',), ('Nirvana',), ('Os Paralamas Do Sucesso',), ('Page & Plant',), ('Passengers',), (\"Paul D'Ianno\",), ('Pearl Jam',), ('Planet Hemp',), ('R.E.M. Feat. Kate Pearson',), ('R.E.M. Feat. KRS-One',), ('Raimundos',), ('Raul Seixas',), ('Skank',), ('Smashing Pumpkins',), ('Soundgarden',), ('Stevie Ray Vaughan & Double Trouble',), ('System Of A Down',), ('The Black Crowes',), ('The Clash',), ('The Tea Party',), ('Tim Maia',), ('Battlestar Galactica',), ('Van Halen',), ('Whitesnake',), ('Zeca Pagodinho',), ('Dread Zeppelin',), ('Battlestar Galactica (Classic)',), ('Aquaman',), ('Christina Aguilera featuring BigElf',), (\"Aerosmith & Sierra Leone's Refugee Allstars\",), ('Corinne Bailey Rae',), ('Dhani Harrison & Jakob Dylan',), ('Jackson Browne',), ('Avril Lavigne',), ('Black Eyed Peas',), ('Jack Johnson',), ('Ben Harper',), ('Snow Patrol',), ('Matisyahu',), ('The Postal Service',), ('Jaguares',), ('The Flaming Lips',), (\"Jack's Mannequin & Mick Fleetwood\",), ('Regina Spektor',), ('House Of Pain',), ('Nega Gizza',), ('Gustavo & Andres Veiga & Salazar',), ('Charlie Brown Jr.',), ('Pedro Luís E A Parede',), ('Los Hermanos',), ('Mundo Livre S/A',), ('Nação Zumbi',), ('DJ Dolores & Orchestra Santa Massa',), ('Sabotage E Instituto',), ('Stereo Maracana',), ('Cake',), ('Aisha Duo',), ('Habib Koité and Bamada',), ('Karsh Kale',), ('Luciana Souza/Romero Lubambo',), ('Aaron Goldberg',), ('Nicolaus Esterhazy Sinfonia',), ('Alberto Turco & Nova Schola Gregoriana',), ('Richard Marlow & The Choir of Trinity College, Cambridge',), ('Anne-Sophie Mutter, Herbert Von Karajan & Wiener Philharmoniker',), ('Hilary Hahn, Jeffrey Kahane, Los Angeles Chamber Orchestra & Margaret Batjer',), ('Yo-Yo Ma',), ('Scholars Baroque Ensemble',), ('Academy of St. Martin in the Fields & Sir Neville Marriner',), ('Academy of St. Martin in the Fields Chamber Ensemble & Sir Neville Marriner',), ('Berliner Philharmoniker, Claudio Abbado & Sabine Meyer',), ('Royal Philharmonic Orchestra & Sir Thomas Beecham',), ('Orchestre Révolutionnaire et Romantique & John Eliot Gardiner',), ('Britten Sinfonia, Ivor Bolton & Lesley Garrett',), ('Chicago Symphony Chorus, Chicago Symphony Orchestra & Sir Georg Solti',), ('Sir Georg Solti & Wiener Philharmoniker',), ('Academy of St. Martin in the Fields, John Birch, Sir Neville Marriner & Sylvia McNair',), ('London Symphony Orchestra & Sir Charles Mackerras',), ('Barry Wordsworth & BBC Concert Orchestra',), ('Herbert Von Karajan, Mirella Freni & Wiener Philharmoniker',), ('Eugene Ormandy',), ('Luciano Pavarotti',), ('Leonard Bernstein & New York Philharmonic',), ('Boston Symphony Orchestra & Seiji Ozawa',), ('Aaron Copland & London Symphony Orchestra',), ('Ton Koopman',), ('Sergei Prokofiev & Yuri Temirkanov',), ('Chicago Symphony Orchestra & Fritz Reiner',), ('Orchestra of The Age of Enlightenment',), ('Emanuel Ax, Eugene Ormandy & Philadelphia Orchestra',), ('James Levine',), ('Berliner Philharmoniker & Hans Rosbaud',), ('Maurizio Pollini',), ('Academy of St. Martin in the Fields, Sir Neville Marriner & William Bennett',), ('Gustav Mahler',), ('Felix Schmidt, London Symphony Orchestra & Rafael Frühbeck de Burgos',), ('Edo de Waart & San Francisco Symphony',), ('Antal Doráti & London Symphony Orchestra',), ('Choir Of Westminster Abbey & Simon Preston',), ('Michael Tilson Thomas & San Francisco Symphony',), ('Chor der Wiener Staatsoper, Herbert Von Karajan & Wiener Philharmoniker',), ('Berliner Philharmoniker & Herbert Von Karajan',), ('Sir Georg Solti, Sumi Jo & Wiener Philharmoniker',), ('Amy Winehouse',), ('Calexico',), ('Otto Klemperer & Philharmonia Orchestra',), ('Philharmonia Orchestra & Sir Neville Marriner',), ('Academy of St. Martin in the Fields, Sir Neville Marriner & Thurston Dart',), ('Les Arts Florissants & William Christie',), ('The 12 Cellists of The Berlin Philharmonic',), ('Adrian Leaper & Doreen de Feis',), ('Roger Norrington, London Classical Players',), (\"Charles Dutoit & L'Orchestre Symphonique de Montréal\",), ('Equale Brass Ensemble, John Eliot Gardiner & Munich Monteverdi Orchestra and Choir',), (\"Kent Nagano and Orchestre de l'Opéra de Lyon\",), ('Julian Bream',), ('Martin Roscoe',), ('Itzhak Perlman',), ('Michele Campanella',), ('Gerald Moore',), ('Mela Tenenbaum, Pro Musica Prague & Richard Kapp',), ('Emerson String Quartet',), ('C. Monteverdi, Nigel Rogers - Chiaroscuro; London Baroque; London Cornett & Sackbu',), ('Nash Ensemble',), ('Philip Glass Ensemble',)]\n"
     ]
    }
   ],
   "source": [
    "cursor = conn.cursor()\n",
    "\n",
    "query = '''\n",
    "SELECT Name FROM ARTIST WHERE Name LIKE \\\"%a%\\\"\n",
    "'''\n",
    "\n",
    "cursor.execute(query)\n",
    "raw_result = cursor.fetchall()  # returns a list of tuples\n",
    "\n",
    "print(raw_result)"
   ]
  },
  {
   "cell_type": "code",
   "execution_count": 5,
   "metadata": {},
   "outputs": [
    {
     "data": {
      "text/html": [
       "<div>\n",
       "<style scoped>\n",
       "    .dataframe tbody tr th:only-of-type {\n",
       "        vertical-align: middle;\n",
       "    }\n",
       "\n",
       "    .dataframe tbody tr th {\n",
       "        vertical-align: top;\n",
       "    }\n",
       "\n",
       "    .dataframe thead th {\n",
       "        text-align: right;\n",
       "    }\n",
       "</style>\n",
       "<table border=\"1\" class=\"dataframe\">\n",
       "  <thead>\n",
       "    <tr style=\"text-align: right;\">\n",
       "      <th></th>\n",
       "      <th>Group ID</th>\n",
       "      <th>Name</th>\n",
       "      <th>Roll No</th>\n",
       "      <th>Project Tile</th>\n",
       "      <th>Supervisor Name</th>\n",
       "    </tr>\n",
       "  </thead>\n",
       "  <tbody>\n",
       "    <tr>\n",
       "      <th>0</th>\n",
       "      <td>54</td>\n",
       "      <td>Parvesh Saini</td>\n",
       "      <td>2021UCS1582</td>\n",
       "      <td>Agentic AI for Scalable Text-to-SQL and RAG Op...</td>\n",
       "      <td>Dr. Poonam Rani</td>\n",
       "    </tr>\n",
       "  </tbody>\n",
       "</table>\n",
       "</div>"
      ],
      "text/plain": [
       "   Group ID           Name      Roll No  \\\n",
       "0        54  Parvesh Saini  2021UCS1582   \n",
       "\n",
       "                                        Project Tile  Supervisor Name  \n",
       "0  Agentic AI for Scalable Text-to-SQL and RAG Op...  Dr. Poonam Rani  "
      ]
     },
     "execution_count": 5,
     "metadata": {},
     "output_type": "execute_result"
    }
   ],
   "source": [
    "query = \"\"\"SELECT * from project_titles where name='Parvesh Saini';\"\"\"\n",
    "tables = pd.read_sql(query, conn)\n",
    "tables"
   ]
  }
 ],
 "metadata": {
  "kernelspec": {
   "display_name": "Python 3",
   "language": "python",
   "name": "python3"
  },
  "language_info": {
   "codemirror_mode": {
    "name": "ipython",
    "version": 3
   },
   "file_extension": ".py",
   "mimetype": "text/x-python",
   "name": "python",
   "nbconvert_exporter": "python",
   "pygments_lexer": "ipython3",
   "version": "3.12.6"
  }
 },
 "nbformat": 4,
 "nbformat_minor": 2
}
